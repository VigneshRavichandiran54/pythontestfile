{
 "cells": [
  {
   "cell_type": "code",
   "execution_count": 7,
   "id": "reverse-malta",
   "metadata": {},
   "outputs": [
    {
     "name": "stdout",
     "output_type": "stream",
     "text": [
      "Collecting django\n",
      "  Using cached Django-3.1.6-py3-none-any.whl (7.8 MB)\n",
      "Collecting sqlparse>=0.2.2\n",
      "  Using cached sqlparse-0.4.1-py3-none-any.whl (42 kB)\n",
      "Requirement already satisfied: pytz in c:\\users\\vignesh ravichandran\\appdata\\local\\programs\\python\\python39\\lib\\site-packages (from django) (2021.1)\n",
      "Collecting asgiref<4,>=3.2.10\n",
      "  Using cached asgiref-3.3.1-py3-none-any.whl (19 kB)\n",
      "Installing collected packages: sqlparse, asgiref, django\n",
      "Successfully installed asgiref-3.3.1 django-3.1.6 sqlparse-0.4.1\n"
     ]
    }
   ],
   "source": [
    "! pip install django"
   ]
  }
 ],
 "metadata": {
  "kernelspec": {
   "display_name": "Python 3",
   "language": "python",
   "name": "python3"
  },
  "language_info": {
   "codemirror_mode": {
    "name": "ipython",
    "version": 3
   },
   "file_extension": ".py",
   "mimetype": "text/x-python",
   "name": "python",
   "nbconvert_exporter": "python",
   "pygments_lexer": "ipython3",
   "version": "3.9.1"
  }
 },
 "nbformat": 4,
 "nbformat_minor": 5
}
