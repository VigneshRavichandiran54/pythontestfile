{
 "cells": [
  {
   "cell_type": "code",
   "execution_count": null,
   "id": "brutal-holmes",
   "metadata": {},
   "outputs": [],
   "source": []
  },
  {
   "cell_type": "code",
   "execution_count": null,
   "id": "biblical-mattress",
   "metadata": {},
   "outputs": [],
   "source": []
  },
  {
   "cell_type": "code",
   "execution_count": null,
   "id": "simplified-sacramento",
   "metadata": {},
   "outputs": [],
   "source": []
  },
  {
   "cell_type": "code",
   "execution_count": 7,
   "id": "interesting-resistance",
   "metadata": {},
   "outputs": [
    {
     "name": "stdout",
     "output_type": "stream",
     "text": [
      "0b1010101111010\n",
      "0o12572\n",
      "0x157a\n"
     ]
    }
   ],
   "source": [
    "print(bin(5498))\n",
    "print(oct(5498))\n",
    "print(hex(5498))\n"
   ]
  },
  {
   "cell_type": "code",
   "execution_count": null,
   "id": "arctic-edinburgh",
   "metadata": {},
   "outputs": [],
   "source": []
  },
  {
   "cell_type": "code",
   "execution_count": 19,
   "id": "middle-flood",
   "metadata": {},
   "outputs": [
    {
     "name": "stdout",
     "output_type": "stream",
     "text": [
      "5498\n",
      "5498\n",
      "5498\n",
      "12120\n"
     ]
    }
   ],
   "source": [
    "print(int('0b1010101111010',2))\n",
    "print(int('0o12572',8))\n",
    "print(int('0x157a',16))\n",
    "print(int('27FG',17))"
   ]
  },
  {
   "cell_type": "code",
   "execution_count": 2,
   "id": "european-threshold",
   "metadata": {},
   "outputs": [
    {
     "name": "stdout",
     "output_type": "stream",
     "text": [
      "lcm of these 2 num =  105\n"
     ]
    }
   ],
   "source": [
    "def lcm(n1,n2):\n",
    "    if n1>n2:\n",
    "        greater=n1\n",
    "    else:\n",
    "        greater=n2\n",
    "   \n",
    "    while(True):\n",
    "        if(greater % n1 == 0) and (greater % n2 == 0):\n",
    "            lc=greater\n",
    "            break\n",
    "        greater += 1   \n",
    "    return lc       \n",
    "\n",
    "n1=21\n",
    "n2=35\n",
    "print(\"lcm of these 2 num = \",lcm(n1,n2))"
   ]
  },
  {
   "cell_type": "code",
   "execution_count": 7,
   "id": "color-driving",
   "metadata": {},
   "outputs": [
    {
     "name": "stdout",
     "output_type": "stream",
     "text": [
      "hcf of these 2 num =  2\n"
     ]
    }
   ],
   "source": [
    "def hcf(n1,n2):\n",
    "    if n1>n2:\n",
    "        smaller=n2\n",
    "    else:\n",
    "        smaller=n1\n",
    "        \n",
    "    for i in range(1,smaller+1):\n",
    "        if(n1%i == 0 ) and (n2 %i == 0):\n",
    "            hcf=i\n",
    "    return hcf\n",
    "\n",
    "n1=6\n",
    "n2=8\n",
    "print(\"hcf of these 2 num = \",hcf(n1,n2))\n"
   ]
  },
  {
   "cell_type": "code",
   "execution_count": 24,
   "id": "boolean-genre",
   "metadata": {},
   "outputs": [
    {
     "name": "stdout",
     "output_type": "stream",
     "text": [
      "not pali\n"
     ]
    }
   ],
   "source": [
    "s=\"Amma\"\n",
    "s1=s[::-1]\n",
    "if(s == s1):\n",
    "    print(\"pali\")\n",
    "else:\n",
    "    print(\"not pali\")"
   ]
  },
  {
   "cell_type": "code",
   "execution_count": 33,
   "id": "finnish-springfield",
   "metadata": {},
   "outputs": [
    {
     "name": "stdout",
     "output_type": "stream",
     "text": [
      "pali\n"
     ]
    }
   ],
   "source": [
    "s=\"Amma\".casefold()\n",
    "s=s.casefold()\n",
    "rs=reversed(s)\n",
    "\n",
    "if(list(s) == list(rs)):\n",
    "    print(\"pali\")\n",
    "else:\n",
    "    print(\"not pali\")"
   ]
  },
  {
   "cell_type": "code",
   "execution_count": 43,
   "id": "acceptable-intention",
   "metadata": {},
   "outputs": [
    {
     "name": "stdout",
     "output_type": "stream",
     "text": [
      "65656\n",
      "pali\n"
     ]
    }
   ],
   "source": [
    "inte=\"65656\"\n",
    "ri1=(str(inte))\n",
    "ri2=ri1[::-1]\n",
    "print(ri2)\n",
    "if(inte == ri2):\n",
    "    print(\"pali\")\n",
    "else:\n",
    "    print(\"not pali\")"
   ]
  },
  {
   "cell_type": "code",
   "execution_count": 2,
   "id": "virtual-tracker",
   "metadata": {},
   "outputs": [
    {
     "name": "stdout",
     "output_type": "stream",
     "text": [
      "0 , 1 , 1 , 2 , 3 , "
     ]
    }
   ],
   "source": [
    "n=5\n",
    "n1=0\n",
    "n2=1\n",
    "count=0\n",
    "while count < n:\n",
    "    print(n1,end=\" , \")\n",
    "    nth=n1+n2\n",
    "    n1=n2\n",
    "    n2=nth\n",
    "    count+=1"
   ]
  },
  {
   "cell_type": "code",
   "execution_count": null,
   "id": "supposed-front",
   "metadata": {},
   "outputs": [],
   "source": []
  },
  {
   "cell_type": "code",
   "execution_count": null,
   "id": "visible-preliminary",
   "metadata": {},
   "outputs": [],
   "source": []
  },
  {
   "cell_type": "code",
   "execution_count": null,
   "id": "suited-spain",
   "metadata": {},
   "outputs": [],
   "source": []
  },
  {
   "cell_type": "code",
   "execution_count": null,
   "id": "neural-quantum",
   "metadata": {},
   "outputs": [],
   "source": []
  }
 ],
 "metadata": {
  "kernelspec": {
   "display_name": "Python 3",
   "language": "python",
   "name": "python3"
  },
  "language_info": {
   "codemirror_mode": {
    "name": "ipython",
    "version": 3
   },
   "file_extension": ".py",
   "mimetype": "text/x-python",
   "name": "python",
   "nbconvert_exporter": "python",
   "pygments_lexer": "ipython3",
   "version": "3.9.1"
  }
 },
 "nbformat": 4,
 "nbformat_minor": 5
}
