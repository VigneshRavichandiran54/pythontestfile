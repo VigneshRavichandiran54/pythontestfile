{
 "cells": [
  {
   "cell_type": "code",
   "execution_count": 4,
   "id": "forced-writer",
   "metadata": {},
   "outputs": [
    {
     "name": "stdout",
     "output_type": "stream",
     "text": [
      "2021-02-05 11:45:31.923148\n"
     ]
    }
   ],
   "source": [
    "import datetime \n",
    "n=datetime.datetime.now()\n",
    "print(n)"
   ]
  },
  {
   "cell_type": "code",
   "execution_count": 11,
   "id": "mathematical-cancellation",
   "metadata": {},
   "outputs": [
    {
     "name": "stdout",
     "output_type": "stream",
     "text": [
      "11\n",
      "Feb\n",
      "February\n",
      "5\n",
      "036\n",
      "02/05/21\n",
      "None\n"
     ]
    }
   ],
   "source": [
    "now=datetime.datetime.now()\n",
    "c1=print(now.strftime('%H'))\n",
    "c2=print(now.strftime('%h'))\n",
    "c3=print(now.strftime('%B'))\n",
    "c4=print(now.strftime('%u'))\n",
    "c5=print(now.strftime('%j'))\n",
    "c6=print(now.strftime('%D'))\n",
    "l=[c1,c2,c3,c4,c5,c6]\n",
    "if i in l:\n",
    " print(i)"
   ]
  },
  {
   "cell_type": "code",
   "execution_count": 15,
   "id": "popular-spencer",
   "metadata": {},
   "outputs": [
    {
     "name": "stdout",
     "output_type": "stream",
     "text": [
      "2021-03-07 11:55:55.090541\n"
     ]
    }
   ],
   "source": [
    "from datetime import datetime ,timedelta\n",
    "p=datetime.now()\n",
    "f=timedelta(days=30)\n",
    "print(p+f)"
   ]
  },
  {
   "cell_type": "code",
   "execution_count": 16,
   "id": "current-armstrong",
   "metadata": {},
   "outputs": [
    {
     "name": "stdout",
     "output_type": "stream",
     "text": [
      "current date time : 2021-02-05 12:03:33.270219\n",
      "10 year from now using timedelta : 2031-02-03 12:03:33.270219\n",
      "before 10 year :  2011-02-08 12:03:33.270219\n"
     ]
    }
   ],
   "source": [
    "# time delta\n",
    "from datetime import datetime,timedelta\n",
    "p=datetime.now()\n",
    "f=timedelta(days=365*10)\n",
    "past=timedelta(days=365*10)\n",
    "fu=p+f\n",
    "pa=p-f\n",
    "print('current date time :',p)\n",
    "print(\"10 year from now using timedelta :\",fu)\n",
    "print('before 10 year : ',pa)\n"
   ]
  },
  {
   "cell_type": "code",
   "execution_count": null,
   "id": "informed-yukon",
   "metadata": {},
   "outputs": [],
   "source": []
  }
 ],
 "metadata": {
  "kernelspec": {
   "display_name": "Python 3",
   "language": "python",
   "name": "python3"
  },
  "language_info": {
   "codemirror_mode": {
    "name": "ipython",
    "version": 3
   },
   "file_extension": ".py",
   "mimetype": "text/x-python",
   "name": "python",
   "nbconvert_exporter": "python",
   "pygments_lexer": "ipython3",
   "version": "3.9.1"
  }
 },
 "nbformat": 4,
 "nbformat_minor": 5
}
