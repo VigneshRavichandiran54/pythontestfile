{
 "cells": [
  {
   "cell_type": "code",
   "execution_count": null,
   "id": "conventional-agenda",
   "metadata": {},
   "outputs": [],
   "source": [
    "num =int(input())\n",
    "\n",
    "for i in range(2,num):\n",
    "    if (num % i) == 0:\n",
    "        print(num,\"is not a prime number\")\n",
    "        print(i,\"times\",num//i,\"is\",num)\n",
    "else:\n",
    "      print(num,\"is a prime number\")\n",
    "\n",
    "\n",
    "\n"
   ]
  },
  {
   "cell_type": "code",
   "execution_count": 113,
   "id": "acting-aquarium",
   "metadata": {},
   "outputs": [
    {
     "name": "stdout",
     "output_type": "stream",
     "text": [
      "enter low value 10\n",
      "enter high value 100\n",
      "11\n",
      "13\n",
      "17\n",
      "19\n",
      "23\n",
      "29\n",
      "31\n",
      "37\n",
      "41\n",
      "43\n",
      "47\n",
      "53\n",
      "59\n",
      "61\n",
      "67\n",
      "71\n",
      "73\n",
      "79\n",
      "83\n",
      "89\n",
      "97\n"
     ]
    }
   ],
   "source": [
    "lower=int(input(\"enter low value \"))\n",
    "upper=int(input(\"enter high value \"))\n",
    "\n",
    "for num in range(lower,upper+1):\n",
    "  \n",
    "        for i in range(2, num):\n",
    "            if (num % i) == 0:\n",
    "                 break  \n",
    "        else:\n",
    "                 print(num)\n"
   ]
  },
  {
   "cell_type": "code",
   "execution_count": 112,
   "id": "parallel-sacramento",
   "metadata": {},
   "outputs": [
    {
     "name": "stdout",
     "output_type": "stream",
     "text": [
      "Enter your plain text:cprp P-aopur pa dhz TLKPBT kpmmpjbsa wyvislt00o0\n",
      "Enter the key:2\n",
      " ertr R-cqrwt rc fjb VNMRDV mroorlduc yaxkunv22q2\n"
     ]
    }
   ],
   "source": [
    "def ceaser(text,key):\n",
    "    result = \" \"\n",
    "   # transverse the plain text\n",
    "    for i in range(len(text)):\n",
    "        char = text[i]\n",
    "      # Encrypt uppercase characters in plain text\n",
    "        if (char.isupper()):\n",
    "            result += chr((ord(char) + key-65) % 26 + 65)\n",
    "      # Encrypt lowercase characters in plain text\n",
    "        elif (char.islower()):\n",
    "            result += chr((ord(char) + key - 97) % 26 + 97)\n",
    "        elif(char.isdigit()):\n",
    "            result += str(int(char) + key)\n",
    "        elif(char == '-'):\n",
    "            result += '-'\n",
    "        elif (char.isspace()):\n",
    "            result += \" \"\n",
    "    return result\n",
    "#check the above function\n",
    "text = input(\"Enter your plain text:\")\n",
    "key = int(input(\"Enter the key:\"))\n",
    "print(ceaser(text,key))"
   ]
  },
  {
   "cell_type": "code",
   "execution_count": null,
   "id": "oriental-painting",
   "metadata": {},
   "outputs": [],
   "source": []
  },
  {
   "cell_type": "code",
   "execution_count": null,
   "id": "revised-frost",
   "metadata": {},
   "outputs": [],
   "source": []
  },
  {
   "cell_type": "code",
   "execution_count": null,
   "id": "adverse-lloyd",
   "metadata": {},
   "outputs": [],
   "source": []
  },
  {
   "cell_type": "code",
   "execution_count": null,
   "id": "facial-arthur",
   "metadata": {},
   "outputs": [],
   "source": []
  },
  {
   "cell_type": "code",
   "execution_count": null,
   "id": "cheap-rebate",
   "metadata": {},
   "outputs": [],
   "source": []
  }
 ],
 "metadata": {
  "kernelspec": {
   "display_name": "Python 3",
   "language": "python",
   "name": "python3"
  },
  "language_info": {
   "codemirror_mode": {
    "name": "ipython",
    "version": 3
   },
   "file_extension": ".py",
   "mimetype": "text/x-python",
   "name": "python",
   "nbconvert_exporter": "python",
   "pygments_lexer": "ipython3",
   "version": "3.9.1"
  }
 },
 "nbformat": 4,
 "nbformat_minor": 5
}
