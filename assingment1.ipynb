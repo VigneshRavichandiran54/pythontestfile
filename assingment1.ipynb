{
  "nbformat": 4,
  "nbformat_minor": 0,
  "metadata": {
    "colab": {
      "name": "assingment1.ipynb",
      "provenance": [],
      "collapsed_sections": [],
      "authorship_tag": "ABX9TyNKPEGRfqqJy82YKcI4pW/t",
      "include_colab_link": true
    },
    "kernelspec": {
      "name": "python3",
      "display_name": "Python 3"
    }
  },
  "cells": [
    {
      "cell_type": "markdown",
      "metadata": {
        "id": "view-in-github",
        "colab_type": "text"
      },
      "source": [
        "<a href=\"https://colab.research.google.com/github/VigneshRavichandiran54/pythontestfile/blob/main/assingment1.ipynb\" target=\"_parent\"><img src=\"https://colab.research.google.com/assets/colab-badge.svg\" alt=\"Open In Colab\"/></a>"
      ]
    },
    {
      "cell_type": "code",
      "metadata": {
        "colab": {
          "base_uri": "https://localhost:8080/"
        },
        "id": "WNtraAd8JYAK",
        "outputId": "b210de5c-5d7c-49a0-819f-9e5b6d0824d2"
      },
      "source": [
        "def ul(str):\r\n",
        "   x=sum(1 for a in str if a.isupper())\r\n",
        "   y=sum(1 for a in str if a.islower())\r\n",
        "   print(\"no of uppercase letter = %s,no of lowercase letter = %s\" % (x,y))\r\n",
        "\r\n",
        "ul(\"vikiV\")"
      ],
      "execution_count": 16,
      "outputs": [
        {
          "output_type": "stream",
          "text": [
            "no of uppercase letter = 1,no of lowercase letter = 4\n"
          ],
          "name": "stdout"
        }
      ]
    },
    {
      "cell_type": "code",
      "metadata": {
        "id": "UwHVODb3JYJu"
      },
      "source": [
        ""
      ],
      "execution_count": null,
      "outputs": []
    }
  ]
}