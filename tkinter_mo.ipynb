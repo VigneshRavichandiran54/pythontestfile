{
 "cells": [
  {
   "cell_type": "code",
   "execution_count": 6,
   "id": "detailed-aerospace",
   "metadata": {},
   "outputs": [],
   "source": [
    "from tkinter import *\n",
    "root=Tk()\n",
    "p=Label(root,text='hello viki')\n",
    "p.pack()\n",
    "root.mainloop()"
   ]
  },
  {
   "cell_type": "code",
   "execution_count": 12,
   "id": "fluid-gibson",
   "metadata": {},
   "outputs": [],
   "source": [
    "r=Tk()\n",
    "p=Label(r,text='hi hello viki ')\n",
    "p.pack()\n",
    "b=Button(r,text='bye')\n",
    "b.pack()\n",
    "b1=Button(r,text='left button')\n",
    "b1.pack(side=LEFT)\n",
    "r.mainloop()"
   ]
  },
  {
   "cell_type": "code",
   "execution_count": 18,
   "id": "buried-toner",
   "metadata": {},
   "outputs": [],
   "source": [
    "r=Tk()\n",
    "C1=Checkbutton(r,text='viki').pack(side=LEFT)\n",
    "c2=Checkbutton(r,text='python developer').pack(side=RIGHT)\n",
    "r.mainloop()"
   ]
  },
  {
   "cell_type": "code",
   "execution_count": 23,
   "id": "loaded-picture",
   "metadata": {
    "scrolled": true
   },
   "outputs": [],
   "source": [
    "r=Tk()\n",
    "f=Frame(r,width=50,height=500,bg='blue').pack()\n",
    "r.mainloop()"
   ]
  },
  {
   "cell_type": "code",
   "execution_count": null,
   "id": "banned-bunny",
   "metadata": {},
   "outputs": [],
   "source": [
    "r=Tk()\n",
    "for i in ['red','green','blue','black']:\n",
    "    f=Frame(r,height=50,width=50,bg=i).pack()\n",
    "r.mainloop()"
   ]
  },
  {
   "cell_type": "code",
   "execution_count": 3,
   "id": "periodic-honolulu",
   "metadata": {},
   "outputs": [],
   "source": [
    "from tkinter import *\n",
    "root = Tk()\n",
    "\n",
    "a = Label(root, text=\"Hello, world!\") # Create a label with words\n",
    "a.pack() # Put the label into the window\n",
    "\n",
    "w = Listbox(root)\n",
    "w.pack()\n",
    "root.mainloop()"
   ]
  },
  {
   "cell_type": "code",
   "execution_count": 16,
   "id": "interpreted-sword",
   "metadata": {},
   "outputs": [],
   "source": [
    "from tkinter import *\n",
    "r=Tk()\n",
    "b1=Button(r,text=\"ok\",relief=RAISED,bg='blue').pack()\n",
    "b2=Button(r,text=\"ok back\",relief=RAISED).pack()\n",
    "b3=Button(r,text=\"no sp edit\").pack()\n",
    "\n",
    "w = Button(r,text = 'state')\n",
    "b = Menubutton(r,text = 'capital',relief=RAISED)\n",
    "mb=  Menubutton (r, text=\"condiments\", )\n",
    "mb.pack()\n",
    "b.pack()\n",
    "w.pack()\n",
    "\n",
    "w = Checkbutton(r,text = 'capital')\n",
    "b = Checkbutton(r,text = 'country')\n",
    "w.pack()\n",
    "b.pack()\n",
    "\n",
    "w = Canvas(r,bg=\"red\", height=250, width=300)\n",
    "w.pack()\n",
    "\n",
    "r.mainloop()"
   ]
  },
  {
   "cell_type": "code",
   "execution_count": 18,
   "id": "motivated-garbage",
   "metadata": {},
   "outputs": [],
   "source": [
    "r=Tk()\n",
    "\n",
    "def cls_wind():\n",
    "    r.destroy()\n",
    "b=Button(r,text='EXIT',command=cls_wind).pack()\n",
    "\n",
    "r.mainloop()"
   ]
  },
  {
   "cell_type": "code",
   "execution_count": 33,
   "id": "recent-newfoundland",
   "metadata": {},
   "outputs": [],
   "source": [
    "from tkinter import *\n",
    "#from tkinter import messagebox\n",
    "r=Tk()\n",
    "def msg():\n",
    "    messagebox.showinfo ('hello viki,',' welcome to messeage box ')\n",
    "    messagebox.showinfo( \"Hello world\", \"Hello python\")\n",
    "\n",
    "    \n",
    "m=Button(r,text='press',command=msg).pack()\n",
    "r.mainloop()"
   ]
  },
  {
   "cell_type": "code",
   "execution_count": 36,
   "id": "passive-processing",
   "metadata": {},
   "outputs": [],
   "source": [
    "from tkinter import *  \n",
    "  \n",
    "from tkinter import messagebox  \n",
    "  \n",
    "root = Tk()  \n",
    "root.geometry(\"100x10000\")  \n",
    "messagebox.showwarning(\"warning\",\"Warning\")  \n",
    "  \n",
    "root.mainloop() \n"
   ]
  },
  {
   "cell_type": "code",
   "execution_count": 37,
   "id": "suspended-penetration",
   "metadata": {},
   "outputs": [],
   "source": [
    "root = Tk()  \n",
    "root.geometry(\"100x100\")  \n",
    "messagebox.showerror(\"error\",\"Error\")  \n",
    "root.mainloop()  "
   ]
  },
  {
   "cell_type": "code",
   "execution_count": 39,
   "id": "manual-treasure",
   "metadata": {},
   "outputs": [],
   "source": [
    "from tkinter import *  \n",
    "from tkinter import messagebox  \n",
    "  \n",
    "top = Tk()  \n",
    "top.geometry(\"100x100\")  \n",
    "messagebox.askquestion(\"Confirm\",\"Are you sure?\")  \n",
    "top.mainloop()  "
   ]
  },
  {
   "cell_type": "code",
   "execution_count": null,
   "id": "stylish-vintage",
   "metadata": {},
   "outputs": [],
   "source": []
  }
 ],
 "metadata": {
  "kernelspec": {
   "display_name": "Python 3",
   "language": "python",
   "name": "python3"
  },
  "language_info": {
   "codemirror_mode": {
    "name": "ipython",
    "version": 3
   },
   "file_extension": ".py",
   "mimetype": "text/x-python",
   "name": "python",
   "nbconvert_exporter": "python",
   "pygments_lexer": "ipython3",
   "version": "3.9.1"
  }
 },
 "nbformat": 4,
 "nbformat_minor": 5
}
