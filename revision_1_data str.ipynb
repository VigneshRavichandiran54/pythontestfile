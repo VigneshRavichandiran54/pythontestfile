{
 "cells": [
  {
   "cell_type": "code",
   "execution_count": 2,
   "id": "medium-aquarium",
   "metadata": {},
   "outputs": [
    {
     "name": "stdout",
     "output_type": "stream",
     "text": [
      "[1, 2, 3, 4, 5] [9, 87, 65, 45, 34]\n",
      "[9, 87, 65, 45, 34] [1, 2, 3, 4, 5]\n"
     ]
    }
   ],
   "source": [
    "l1=[1,2,3,4,5]\n",
    "l2=[9,87,65,45,34]\n",
    "print(l1,l2)\n",
    "l1,l2=l2,l1\n",
    "print(l1,l2)"
   ]
  },
  {
   "cell_type": "code",
   "execution_count": 28,
   "id": "german-hours",
   "metadata": {
    "scrolled": true
   },
   "outputs": [
    {
     "name": "stdout",
     "output_type": "stream",
     "text": [
      "[11, 11, 55, 44, 66, 55, 44, 66, 55, 44, 66, 55, 44, 45, 33, 22, 11]\n",
      "[1, 2, 3, 4, 99, 98, 99, 98, 99, 98, 99, 98, 99, 98, 99, 98, 99, 98, 99, 98, 99, 98, 99, 98, 99, 98, 0]\n",
      "[11, 22, 33, 45, 44, 55, 66, 44, 55, 66, 44, 55, 66, 44, 55, 11, 44, 55, 66, 11]\n",
      "[11, 22, 33, 45, 44, 55, 66, 44, 55, 66, 44, 55, 66, 44, 55, 11, 44, 55, 66, 11]\n",
      "[11, 22, 33, 45, 44, 55, 66, 44, 55, 66, 44, 55, 66, 44, 55, 11, 44, 11, 11, 11]\n"
     ]
    }
   ],
   "source": [
    "print (l1[::-1])\n",
    "l1[1:4:2]\n",
    "l1[1:4]\n",
    "l2[-1:-5:-2]\n",
    "l2[-1:-3]=99,98\n",
    "print(l2)\n",
    "l2[-1]=0\n",
    "l1[-1:-4]=44,55,66\n",
    "print(l1)\n",
    "l1[0:3]=11,22,33\n",
    "print(l1)\n",
    "l1[-1:-4:-1]=11,11,11\n",
    "print(l1)"
   ]
  },
  {
   "cell_type": "code",
   "execution_count": 118,
   "id": "rapid-aerospace",
   "metadata": {},
   "outputs": [
    {
     "data": {
      "text/plain": [
       "0"
      ]
     },
     "execution_count": 118,
     "metadata": {},
     "output_type": "execute_result"
    }
   ],
   "source": [
    "list1=['apple',7659748,True,343.232,40+5j,9847,87,87,87]\n",
    "list2=['banana','mangoo']\n",
    "list2.pop()\n",
    "l1=list1.copy()\n",
    "list1.clear()\n",
    "list1.append(\"orange\")\n",
    "list1.count(87)\n"
   ]
  },
  {
   "cell_type": "code",
   "execution_count": 115,
   "id": "dramatic-spiritual",
   "metadata": {},
   "outputs": [
    {
     "name": "stdout",
     "output_type": "stream",
     "text": [
      "['orange']\n",
      "['banana']\n",
      "['apple', 7659748, True, 343.232, (40+5j), 9847, 87, 87, 87]\n"
     ]
    },
    {
     "data": {
      "text/plain": [
       "0"
      ]
     },
     "execution_count": 115,
     "metadata": {},
     "output_type": "execute_result"
    }
   ],
   "source": [
    "print(list1)\n",
    "print(list2)\n",
    "print(l1)\n",
    "list1.count(87)\n",
    "#print(x)          "
   ]
  },
  {
   "cell_type": "code",
   "execution_count": 134,
   "id": "characteristic-correspondence",
   "metadata": {},
   "outputs": [
    {
     "name": "stdout",
     "output_type": "stream",
     "text": [
      "3\n",
      "7\n",
      "[6867, 96876, 875685]\n"
     ]
    }
   ],
   "source": [
    "p=[1,2,3,4,6,6,6,0]\n",
    "a=p.count(6)\n",
    "print(a)\n",
    "p.extend([98,96])\n",
    "a=p.index(0)\n",
    "b=p.insert(0,0)\n",
    "b=[6867,96876]\n",
    "b.insert(2,875685)\n",
    "print(a,)\n",
    "print(b)"
   ]
  },
  {
   "cell_type": "code",
   "execution_count": 153,
   "id": "lonely-leather",
   "metadata": {},
   "outputs": [
    {
     "name": "stdout",
     "output_type": "stream",
     "text": [
      "2\n",
      "None\n"
     ]
    }
   ],
   "source": [
    "c=[1,2,3,4,5]\n",
    "print(c.pop(1))\n",
    "print(c.remove(4))\n",
    "c.reverse()\n"
   ]
  },
  {
   "cell_type": "code",
   "execution_count": 154,
   "id": "final-virtue",
   "metadata": {},
   "outputs": [],
   "source": [
    "n=[\"ghgh\",\"7t587t\",\"86575\"]\n",
    "n.reverse()"
   ]
  },
  {
   "cell_type": "code",
   "execution_count": 155,
   "id": "flexible-surfing",
   "metadata": {},
   "outputs": [
    {
     "name": "stdout",
     "output_type": "stream",
     "text": [
      "['86575', '7t587t', 'ghgh']\n"
     ]
    }
   ],
   "source": [
    "print(n)"
   ]
  },
  {
   "cell_type": "code",
   "execution_count": 156,
   "id": "planned-champion",
   "metadata": {},
   "outputs": [],
   "source": [
    "t=(\"tuple\",\"immutable\",\"fast\",\"less space\")\n"
   ]
  },
  {
   "cell_type": "code",
   "execution_count": null,
   "id": "geological-junior",
   "metadata": {},
   "outputs": [],
   "source": []
  },
  {
   "cell_type": "code",
   "execution_count": null,
   "id": "homeless-occurrence",
   "metadata": {},
   "outputs": [],
   "source": []
  }
 ],
 "metadata": {
  "kernelspec": {
   "display_name": "Python 3",
   "language": "python",
   "name": "python3"
  },
  "language_info": {
   "codemirror_mode": {
    "name": "ipython",
    "version": 3
   },
   "file_extension": ".py",
   "mimetype": "text/x-python",
   "name": "python",
   "nbconvert_exporter": "python",
   "pygments_lexer": "ipython3",
   "version": "3.9.1"
  }
 },
 "nbformat": 4,
 "nbformat_minor": 5
}
