{
 "cells": [
  {
   "cell_type": "code",
   "execution_count": null,
   "id": "charged-match",
   "metadata": {},
   "outputs": [],
   "source": [
    "# A City Bus is a Ring Route Bus which runs in circular fashion.That is, Bus once starts at the Source Bus Stop, halts at each Bus Stop in its Route and at the end it reaches the Source Bus Stop again.\n",
    "If there are n  number of Stops and if the bus starts at Bus Stop 1, then after nth Bus Stop, the next stop in the Route will be Bus Stop number 1 always.\n",
    "If there are n stops, there will be n paths.One path connects two stops. Distances (in meters) for all paths in Ring Route is given in array Path[] as given below:\n",
    "Path = [800, 600, 750, 900, 1400, 1200, 1100, 1500]\n",
    "Fare is determined based on the distance covered from source to destination stop as  Distance between Input Source and Destination Stops can be measured by looking at values in array Path[] and fare can be calculated as per following criteria:\n",
    "\n",
    "If d =1000 metres, then fare=5 INR\n",
    "(When calculating fare for others, the calculated fare containing any fraction value should be ceiled. For example, for distance 900n when fare initially calculated is 4.5 which must be ceiled to 5)\n",
    "Path is circular in function. Value at each index indicates distance till current stop from the previous one. And each index position can be mapped with values at same index in BusStops [] array, which is a string array holding abbreviation of names for all stops as-\n",
    "“THANERAILWAYSTN” = ”TH”, “GAONDEVI” = “GA”, “ICEFACTROY” = “IC”, “HARINIWASCIRCLE” = “HA”, “TEENHATHNAKA” = “TE”, “LUISWADI” = “LU”, “NITINCOMPANYJUNCTION” = “NI”, “CADBURRYJUNCTION” = “CA”\n",
    "\n",
    "Given, n=8, where n is number of total BusStops.\n",
    "BusStops = [ “TH”, ”GA”, ”IC”, ”HA”, ”TE”, ”LU”, ”NI”,”CA” ]\n",
    "\n",
    "Write a code with function getFare(String Source, String Destination) which take Input as source and destination stops(in the format containing first two characters of the Name of the Bus Stop) and calculate and return travel fare.\n",
    "\n",
    "Example 1:\n",
    "Input Values\n",
    "ca\n",
    "Ca\n",
    "\n",
    "Output Values\n",
    "INVALID OUTPUT\n",
    "\n",
    "Example 2:\n",
    "Input Values\n",
    "NI\n",
    "HA\n",
    "Output Values\n",
    "23.0 INR\n",
    "\n",
    "Note: Input and Output should be in format given in example.\n",
    "Input should not be case sensitive and output should be in the format   INR"
   ]
  },
  {
   "cell_type": "code",
   "execution_count": null,
   "id": "arbitrary-southwest",
   "metadata": {},
   "outputs": [],
   "source": [
    "import math\n",
    "def getFare(source,destination):\n",
    "    route=[ [ \"TH\", \"GA\", \"IC\", \"HA\", \"TE\", \"LU\", \"NI\", \"CA\"],\n",
    "    [800,600,750,900,1400,1200,1100,1500]\n",
    "        ]\n",
    "    fare = 0.0\n",
    "    if not (source in route[0] and destination in route[0]):\n",
    "        print(\"Invalid Input\")\n",
    "        exit()\n",
    "    if route[0].index(source) < route[0].index(destination):\n",
    "        for i in range(route[0].index(source),route[0].index(destination)+1):\n",
    "            fare+=route[1][i]\n",
    "            \n",
    "    elif route[0].index(destination) < route[0].index(source):\n",
    "        for i in range(route[0].index(source)+1,len(route[0])):\n",
    "            fare+=route[1][i]\n",
    "          \n",
    "        for i in range(0,route[0].index(destination)+1):\n",
    "            fare+=route[1][i]\n",
    "    print(fare)\n",
    "    return float(math.ceil(fare*0.005))\n",
    "    \n",
    "   \n",
    "source= input()\n",
    "destination = input()\n",
    "\n",
    "fare = getFare(source,destination)\n",
    "if fare == 0:\n",
    "    print(\"Invalid Input\")\n",
    "else:\n",
    "       print(fare)"
   ]
  },
  {
   "cell_type": "code",
   "execution_count": null,
   "id": "intense-mixture",
   "metadata": {},
   "outputs": [],
   "source": [
    "We want to estimate the cost of painting a property. Interior wall painting cost is Rs.18 per sq.ft. and exterior wall painting cost is Rs.12 per sq.ft.\n",
    "\n",
    "Take input as\n",
    "1. Number of Interior walls\n",
    "2. Number of Exterior walls\n",
    "3. Surface Area of each Interior  Wall in units of square feet\n",
    "4. Surface Area of each Exterior Wall in units of square feet\n",
    "\n",
    "If a user enters zero  as the number of walls then skip Surface area values as User may don’t  want to paint that wall.\n",
    "\n",
    "Calculate and display the total cost of painting the property\n",
    "Example 1:\n",
    "\n",
    "6\n",
    "3\n",
    "12.3\n",
    "15.2\n",
    "12.3\n",
    "15.2\n",
    "12.3\n",
    "15.2\n",
    "10.10\n",
    "10.10\n",
    "10.00\n",
    "Total estimated Cost : 1847.4 INR\n",
    "\n",
    "Note: Follow in input and output format as given in above example"
   ]
  },
  {
   "cell_type": "code",
   "execution_count": 17,
   "id": "recovered-magnitude",
   "metadata": {},
   "outputs": [
    {
     "name": "stdout",
     "output_type": "stream",
     "text": [
      "1\n",
      "2\n",
      "123\n",
      "212\n",
      "212\n",
      "cost of paint estimation  11542.0 INR\n"
     ]
    }
   ],
   "source": [
    "no_int_wall=int(input())\n",
    "no_ext_wall=int(input())\n",
    "\n",
    "intirior_fare=[  float(input()) for i in range(1,no_int_wall+1) ]\n",
    "exterior_fare=[  float(input()) for i in range (1,no_ext_wall+1)]\n",
    "\n",
    "\n",
    "if intirior_fare and exterior_fare:\n",
    "    print(\"cost of paint estimation \",(sum(intirior_fare)*18+sum(exterior_fare)*22),\"INR\")\n",
    "elif intirior_fare:\n",
    "    print(\"cost of paint estimation for interior\",(sum(intirior_fare)*18))\n",
    "elif exterior_fare:\n",
    "    print(\"cost of paint estimation for exterior\",(sum(exterior_fare)*22))\n",
    "else:\n",
    "    print(\"cost of paint estimation  0.000\") "
   ]
  },
  {
   "cell_type": "code",
   "execution_count": 25,
   "id": "approximate-lambda",
   "metadata": {},
   "outputs": [
    {
     "name": "stdout",
     "output_type": "stream",
     "text": [
      "123\n"
     ]
    }
   ],
   "source": [
    "a=[1,2,3]\n",
    "string=[str(i) for i in a]\n",
    "int_s=\"\".join(string)\n",
    "inti=int(int_s)\n",
    "print(inti)"
   ]
  },
  {
   "cell_type": "code",
   "execution_count": null,
   "id": "appointed-google",
   "metadata": {},
   "outputs": [],
   "source": [
    "   Where, n= Total no of Monkeys\n",
    "        k= Number of eatable Bananas by Single Monkey (Monkey that jumped down last may get less than k Bananas)\n",
    "        j = Number of eatable Peanuts by single Monkey(Monkey that jumped down last may get less than j Peanuts)\n",
    "        m = Total number of Bananas\n",
    "        p  = Total number of Peanuts\n",
    "Remember that the Monkeys always eat Bananas and Peanuts, so there is no possibility of k and j having a value zero\n",
    "\n",
    "Example 1:\n",
    "Input Values    \n",
    "20\n",
    "2\n",
    "3\n",
    "12\n",
    "12\n",
    "\n",
    "Output Values\n",
    "Number of  Monkeys left on the tree:10"
   ]
  },
  {
   "cell_type": "code",
   "execution_count": 32,
   "id": "lucky-queen",
   "metadata": {},
   "outputs": [
    {
     "name": "stdout",
     "output_type": "stream",
     "text": [
      "56\n",
      "2\n",
      "10\n",
      "50\n",
      "80\n",
      "number of monkey left in tree = 23.0\n"
     ]
    }
   ],
   "source": [
    "monkey=int(input())\n",
    "bana_ate=int(input())\n",
    "pnut=int(input())\n",
    "tot_ban=int(input())\n",
    "tot_pnut=int(input())\n",
    "\n",
    "if(monkey<0 or bana_ate <0 or   pnut <0 or  tot_ban <0 or tot_pnut <0):\n",
    "    print(\"invalid input\")\n",
    "else:\n",
    "    ban_ate_monkey = tot_ban/bana_ate\n",
    "    peanut=tot_pnut/pnut\n",
    "    \n",
    "    left=(ban_ate_monkey + peanut) - monkey\n",
    "    \n",
    "    print(\"number of monkey left in tree =\",abs(left))"
   ]
  },
  {
   "cell_type": "code",
   "execution_count": null,
   "id": "bound-least",
   "metadata": {},
   "outputs": [],
   "source": []
  }
 ],
 "metadata": {
  "kernelspec": {
   "display_name": "Python 3",
   "language": "python",
   "name": "python3"
  },
  "language_info": {
   "codemirror_mode": {
    "name": "ipython",
    "version": 3
   },
   "file_extension": ".py",
   "mimetype": "text/x-python",
   "name": "python",
   "nbconvert_exporter": "python",
   "pygments_lexer": "ipython3",
   "version": "3.9.1"
  }
 },
 "nbformat": 4,
 "nbformat_minor": 5
}
