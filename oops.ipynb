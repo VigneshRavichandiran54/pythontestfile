{
 "cells": [
  {
   "cell_type": "code",
   "execution_count": 3,
   "id": "collectible-locator",
   "metadata": {},
   "outputs": [
    {
     "name": "stdout",
     "output_type": "stream",
     "text": [
      "450 50\n",
      "vig move\n"
     ]
    }
   ],
   "source": [
    "class vehicle:\n",
    "  def __init__(self,maxspeed,mileage):\n",
    "    self.maxspeed=maxspeed\n",
    "    self.mileage=mileage\n",
    "c=vehicle (\"450\",\"50\")\n",
    "print(c.maxspeed,c.mileage)\n",
    "a=vehicle(\"vig\",\"move\")\n",
    "print(a.maxspeed,a.mileage)"
   ]
  },
  {
   "cell_type": "code",
   "execution_count": null,
   "id": "productive-sentence",
   "metadata": {},
   "outputs": [],
   "source": [
    "class vehicle:\n",
    "    pass\n"
   ]
  }
 ],
 "metadata": {
  "kernelspec": {
   "display_name": "Python 3",
   "language": "python",
   "name": "python3"
  },
  "language_info": {
   "codemirror_mode": {
    "name": "ipython",
    "version": 3
   },
   "file_extension": ".py",
   "mimetype": "text/x-python",
   "name": "python",
   "nbconvert_exporter": "python",
   "pygments_lexer": "ipython3",
   "version": "3.9.1"
  }
 },
 "nbformat": 4,
 "nbformat_minor": 5
}
