{
 "cells": [
  {
   "cell_type": "code",
   "execution_count": 11,
   "id": "solar-threshold",
   "metadata": {},
   "outputs": [
    {
     "name": "stdout",
     "output_type": "stream",
     "text": [
      "b\"BZh91AY&SY\\x1e\\xc8\\xf6\\xae\\x00\\x00\\x17\\xd7\\x80\\x00\\x10@\\x05$!\\x02\\x00?\\xef\\xde00\\x00\\xadP\\xd0&\\x8d#L\\xa6OP1\\n\\x00\\x00\\x00\\x00%\\x04\\xa6\\x8f\\xd4\\xc9\\xa9\\xb5\\x03F\\xc5\\x15sm\\x9b?T\\x0f}c\\x98\\x0f#U\\xf30\\xe9\\xcf\\xa9M\\xc6\\xa0\\xe1X\\xd4\\xeeW\\xd9\\x13T]J\\xa3\\xea\\xb3\\xe3\\xe4\\x92\\x99.X\\xde9}\\x0b\\x0b#\\x0c\\xf8\\xde6\\t\\xbbyK'\\xd9\\xf4k_\\xa5\\xae\\x04\\xf6\\xab\\xc0'&\\x97\\x169\\x02\\x86*LJz\\\\n{\\xd1\\x10\\xac <\\x8d\\xc1Udda\\xb9\\x95\\xeaV Z@\\x8e`\\xcbD\\xa6\\xe8\\xfb)\\xc5\\xdfOTcF\\x8c\\x05\\xabpo\\x84\\x98\\x10\\xe4!\\x98\\xael2d\\xf4\\x03\\xf8\\xbb\\x92)\\xc2\\x84\\x80\\xf6G\\xb5p\"\n",
      "\n",
      " b'Normalization is the process of organizing the data in the database. Normalization is used to minimize the redundancy from a relation or set of relations.\\nIt is also used to eliminate the undesirable characteristics like Insertion,\\nUpdate and Deletion Anomalies.'\n",
      " \n",
      "compresed size: 199\n",
      "decompresed size: 262\n"
     ]
    }
   ],
   "source": [
    "import bz2\n",
    "data=b\"\"\"Normalization is the process of organizing the data in the database. \\\n",
    "Normalization is used to minimize the redundancy from a relation or set of relations.\n",
    "It is also used to eliminate the undesirable characteristics like Insertion,\n",
    "Update and Deletion Anomalies.\"\"\"\n",
    "\n",
    "comp=bz2.compress(data)\n",
    "print(comp)\n",
    "decomp=bz2.decompress(comp)\n",
    "print('\\n',decomp)\n",
    "print(\" \")\n",
    "print('compresed size:',len(comp))\n",
    "print('decompresed size:',len(decomp))"
   ]
  },
  {
   "cell_type": "code",
   "execution_count": null,
   "id": "painted-grenada",
   "metadata": {},
   "outputs": [],
   "source": []
  }
 ],
 "metadata": {
  "kernelspec": {
   "display_name": "Python 3",
   "language": "python",
   "name": "python3"
  },
  "language_info": {
   "codemirror_mode": {
    "name": "ipython",
    "version": 3
   },
   "file_extension": ".py",
   "mimetype": "text/x-python",
   "name": "python",
   "nbconvert_exporter": "python",
   "pygments_lexer": "ipython3",
   "version": "3.9.1"
  }
 },
 "nbformat": 4,
 "nbformat_minor": 5
}
